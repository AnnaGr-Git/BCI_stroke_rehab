{
 "cells": [
  {
   "cell_type": "code",
   "execution_count": 121,
   "id": "20ff6aac",
   "metadata": {},
   "outputs": [
    {
     "name": "stdout",
     "output_type": "stream",
     "text": [
      "The autoreload extension is already loaded. To reload it, use:\n",
      "  %reload_ext autoreload\n"
     ]
    }
   ],
   "source": [
    "import numpy as np\n",
    "import os\n",
    "import pandas as pd\n",
    "from matplotlib import mlab\n",
    "import matplotlib.pyplot as plt\n",
    "\n",
    "from src.data.make_dataset import BCIDataset\n",
    "from src.visualization.plotting import plot_data, plot_data_logvar, plot_LDA\n",
    "from src.data.signal_processing import best_csp_components, logvar, train_lda\n",
    "\n",
    "%load_ext autoreload\n",
    "%autoreload 2"
   ]
  },
  {
   "cell_type": "code",
   "execution_count": 122,
   "id": "3a328d73",
   "metadata": {},
   "outputs": [],
   "source": [
    "subjects = [\"anna\"]\n",
    "measurements = [\"2023-02-20_17-52-36_with_timecorr\"]\n",
    "\n",
    "data_root = \"C:/Users/annag/OneDrive - Danmarks Tekniske Universitet/Semester_04/Special_Course_BCI/03_code/BCI_stroke_rehab/data/raw/\""
   ]
  },
  {
   "cell_type": "markdown",
   "id": "d21b0265",
   "metadata": {},
   "source": [
    "# Create dataset"
   ]
  },
  {
   "cell_type": "code",
   "execution_count": 123,
   "id": "1a45363e",
   "metadata": {},
   "outputs": [],
   "source": [
    "trainingset = BCIDataset(data_root, subjects, measurements)"
   ]
  },
  {
   "cell_type": "code",
   "execution_count": 124,
   "id": "5a2f78a5",
   "metadata": {},
   "outputs": [
    {
     "data": {
      "text/html": [
       "<div>\n",
       "<style scoped>\n",
       "    .dataframe tbody tr th:only-of-type {\n",
       "        vertical-align: middle;\n",
       "    }\n",
       "\n",
       "    .dataframe tbody tr th {\n",
       "        vertical-align: top;\n",
       "    }\n",
       "\n",
       "    .dataframe thead th {\n",
       "        text-align: right;\n",
       "    }\n",
       "</style>\n",
       "<table border=\"1\" class=\"dataframe\">\n",
       "  <thead>\n",
       "    <tr style=\"text-align: right;\">\n",
       "      <th></th>\n",
       "      <th>subject</th>\n",
       "      <th>measurement</th>\n",
       "      <th>class</th>\n",
       "      <th>sampleID</th>\n",
       "      <th>path</th>\n",
       "      <th>sample</th>\n",
       "    </tr>\n",
       "  </thead>\n",
       "  <tbody>\n",
       "    <tr>\n",
       "      <th>0</th>\n",
       "      <td>anna</td>\n",
       "      <td>2023-02-20_17-52-36_with_timecorr</td>\n",
       "      <td>arm_left</td>\n",
       "      <td>10</td>\n",
       "      <td>arm_left_10_1676912164.csv</td>\n",
       "      <td>Unnamed: 0     class  time_in_s         C...</td>\n",
       "    </tr>\n",
       "    <tr>\n",
       "      <th>1</th>\n",
       "      <td>anna</td>\n",
       "      <td>2023-02-20_17-52-36_with_timecorr</td>\n",
       "      <td>arm_left</td>\n",
       "      <td>11</td>\n",
       "      <td>arm_left_11_1676912181.csv</td>\n",
       "      <td>Unnamed: 0     class  time_in_s         C...</td>\n",
       "    </tr>\n",
       "    <tr>\n",
       "      <th>2</th>\n",
       "      <td>anna</td>\n",
       "      <td>2023-02-20_17-52-36_with_timecorr</td>\n",
       "      <td>arm_left</td>\n",
       "      <td>13</td>\n",
       "      <td>arm_left_13_1676912214.csv</td>\n",
       "      <td>Unnamed: 0     class  time_in_s         C...</td>\n",
       "    </tr>\n",
       "    <tr>\n",
       "      <th>3</th>\n",
       "      <td>anna</td>\n",
       "      <td>2023-02-20_17-52-36_with_timecorr</td>\n",
       "      <td>arm_left</td>\n",
       "      <td>15</td>\n",
       "      <td>arm_left_15_1676912247.csv</td>\n",
       "      <td>Unnamed: 0     class  time_in_s         C...</td>\n",
       "    </tr>\n",
       "    <tr>\n",
       "      <th>4</th>\n",
       "      <td>anna</td>\n",
       "      <td>2023-02-20_17-52-36_with_timecorr</td>\n",
       "      <td>arm_left</td>\n",
       "      <td>18</td>\n",
       "      <td>arm_left_18_1676912297.csv</td>\n",
       "      <td>Unnamed: 0     class  time_in_s         C...</td>\n",
       "    </tr>\n",
       "  </tbody>\n",
       "</table>\n",
       "</div>"
      ],
      "text/plain": [
       "  subject                        measurement     class sampleID  \\\n",
       "0    anna  2023-02-20_17-52-36_with_timecorr  arm_left       10   \n",
       "1    anna  2023-02-20_17-52-36_with_timecorr  arm_left       11   \n",
       "2    anna  2023-02-20_17-52-36_with_timecorr  arm_left       13   \n",
       "3    anna  2023-02-20_17-52-36_with_timecorr  arm_left       15   \n",
       "4    anna  2023-02-20_17-52-36_with_timecorr  arm_left       18   \n",
       "\n",
       "                         path  \\\n",
       "0  arm_left_10_1676912164.csv   \n",
       "1  arm_left_11_1676912181.csv   \n",
       "2  arm_left_13_1676912214.csv   \n",
       "3  arm_left_15_1676912247.csv   \n",
       "4  arm_left_18_1676912297.csv   \n",
       "\n",
       "                                              sample  \n",
       "0       Unnamed: 0     class  time_in_s         C...  \n",
       "1       Unnamed: 0     class  time_in_s         C...  \n",
       "2       Unnamed: 0     class  time_in_s         C...  \n",
       "3       Unnamed: 0     class  time_in_s         C...  \n",
       "4       Unnamed: 0     class  time_in_s         C...  "
      ]
     },
     "execution_count": 124,
     "metadata": {},
     "output_type": "execute_result"
    }
   ],
   "source": [
    "trainingset.data.head()"
   ]
  },
  {
   "cell_type": "markdown",
   "id": "2ea26f20",
   "metadata": {},
   "source": [
    "# Preprocessing"
   ]
  },
  {
   "cell_type": "markdown",
   "id": "a978c8b4",
   "metadata": {},
   "source": [
    "## Validate data"
   ]
  },
  {
   "cell_type": "code",
   "execution_count": 125,
   "id": "52556cb1",
   "metadata": {},
   "outputs": [
    {
     "name": "stdout",
     "output_type": "stream",
     "text": [
      "Total invalid samples: 2\n"
     ]
    }
   ],
   "source": [
    "trainingset.validate_data()"
   ]
  },
  {
   "cell_type": "markdown",
   "id": "2c45b8de",
   "metadata": {},
   "source": [
    "## Filter data"
   ]
  },
  {
   "cell_type": "code",
   "execution_count": 126,
   "id": "83734464",
   "metadata": {},
   "outputs": [],
   "source": [
    "trainingset.apply_bandpass_filtering(selected_data=\"sample\")"
   ]
  },
  {
   "cell_type": "markdown",
   "id": "9e8b3779",
   "metadata": {},
   "source": [
    "# Create training data"
   ]
  },
  {
   "cell_type": "code",
   "execution_count": 127,
   "id": "de752b16",
   "metadata": {},
   "outputs": [],
   "source": [
    "mode = [\"class_as_array\",\"class_as_key\"][1]\n",
    "test_size = 0.2"
   ]
  },
  {
   "cell_type": "code",
   "execution_count": 128,
   "id": "dd82b1cd",
   "metadata": {},
   "outputs": [
    {
     "name": "stdout",
     "output_type": "stream",
     "text": [
      "Split dataset in 30 train and 8 test samples.\n",
      "Best CSP components: [0, 15]\n"
     ]
    }
   ],
   "source": [
    "training_data = trainingset.create_training_data(test_size, mode)"
   ]
  },
  {
   "cell_type": "code",
   "execution_count": 129,
   "id": "149f5613",
   "metadata": {},
   "outputs": [
    {
     "data": {
      "text/plain": [
       "dict_keys(['train', 'test'])"
      ]
     },
     "execution_count": 129,
     "metadata": {},
     "output_type": "execute_result"
    }
   ],
   "source": [
    "training_data.keys()"
   ]
  },
  {
   "cell_type": "code",
   "execution_count": 130,
   "id": "dc9f4bd5",
   "metadata": {},
   "outputs": [
    {
     "data": {
      "text/plain": [
       "dict_keys(['arm_left', 'arm_right'])"
      ]
     },
     "execution_count": 130,
     "metadata": {},
     "output_type": "execute_result"
    }
   ],
   "source": [
    "training_data['test'].keys()"
   ]
  },
  {
   "cell_type": "code",
   "execution_count": 131,
   "id": "24219aa8",
   "metadata": {},
   "outputs": [
    {
     "data": {
      "text/html": [
       "<div>\n",
       "<style scoped>\n",
       "    .dataframe tbody tr th:only-of-type {\n",
       "        vertical-align: middle;\n",
       "    }\n",
       "\n",
       "    .dataframe tbody tr th {\n",
       "        vertical-align: top;\n",
       "    }\n",
       "\n",
       "    .dataframe thead th {\n",
       "        text-align: right;\n",
       "    }\n",
       "</style>\n",
       "<table border=\"1\" class=\"dataframe\">\n",
       "  <thead>\n",
       "    <tr style=\"text-align: right;\">\n",
       "      <th></th>\n",
       "      <th>subject</th>\n",
       "      <th>measurement</th>\n",
       "      <th>class</th>\n",
       "      <th>sampleID</th>\n",
       "      <th>path</th>\n",
       "      <th>sample</th>\n",
       "      <th>filtered</th>\n",
       "      <th>train_split</th>\n",
       "      <th>csp</th>\n",
       "    </tr>\n",
       "  </thead>\n",
       "  <tbody>\n",
       "    <tr>\n",
       "      <th>0</th>\n",
       "      <td>anna</td>\n",
       "      <td>2023-02-20_17-52-36_with_timecorr</td>\n",
       "      <td>arm_left</td>\n",
       "      <td>10</td>\n",
       "      <td>arm_left_10_1676912164.csv</td>\n",
       "      <td>Unnamed: 0     class  time_in_s         C...</td>\n",
       "      <td>time_in_s         CZ         C4        T4...</td>\n",
       "      <td>train</td>\n",
       "      <td>time_in_s        CZ        C4        T4  ...</td>\n",
       "    </tr>\n",
       "    <tr>\n",
       "      <th>1</th>\n",
       "      <td>anna</td>\n",
       "      <td>2023-02-20_17-52-36_with_timecorr</td>\n",
       "      <td>arm_left</td>\n",
       "      <td>11</td>\n",
       "      <td>arm_left_11_1676912181.csv</td>\n",
       "      <td>Unnamed: 0     class  time_in_s         C...</td>\n",
       "      <td>time_in_s         CZ         C4        T4...</td>\n",
       "      <td>train</td>\n",
       "      <td>time_in_s        CZ        C4        T4  ...</td>\n",
       "    </tr>\n",
       "    <tr>\n",
       "      <th>2</th>\n",
       "      <td>anna</td>\n",
       "      <td>2023-02-20_17-52-36_with_timecorr</td>\n",
       "      <td>arm_left</td>\n",
       "      <td>13</td>\n",
       "      <td>arm_left_13_1676912214.csv</td>\n",
       "      <td>Unnamed: 0     class  time_in_s         C...</td>\n",
       "      <td>time_in_s         CZ         C4         T...</td>\n",
       "      <td>train</td>\n",
       "      <td>time_in_s        CZ        C4        T4  ...</td>\n",
       "    </tr>\n",
       "    <tr>\n",
       "      <th>3</th>\n",
       "      <td>anna</td>\n",
       "      <td>2023-02-20_17-52-36_with_timecorr</td>\n",
       "      <td>arm_left</td>\n",
       "      <td>15</td>\n",
       "      <td>arm_left_15_1676912247.csv</td>\n",
       "      <td>Unnamed: 0     class  time_in_s         C...</td>\n",
       "      <td>time_in_s        CZ        C4        T4  ...</td>\n",
       "      <td>train</td>\n",
       "      <td>time_in_s        CZ        C4        T4  ...</td>\n",
       "    </tr>\n",
       "    <tr>\n",
       "      <th>4</th>\n",
       "      <td>anna</td>\n",
       "      <td>2023-02-20_17-52-36_with_timecorr</td>\n",
       "      <td>arm_left</td>\n",
       "      <td>18</td>\n",
       "      <td>arm_left_18_1676912297.csv</td>\n",
       "      <td>Unnamed: 0     class  time_in_s         C...</td>\n",
       "      <td>time_in_s        CZ        C4        T4  ...</td>\n",
       "      <td>train</td>\n",
       "      <td>time_in_s        CZ        C4        T4  ...</td>\n",
       "    </tr>\n",
       "  </tbody>\n",
       "</table>\n",
       "</div>"
      ],
      "text/plain": [
       "  subject                        measurement     class sampleID  \\\n",
       "0    anna  2023-02-20_17-52-36_with_timecorr  arm_left       10   \n",
       "1    anna  2023-02-20_17-52-36_with_timecorr  arm_left       11   \n",
       "2    anna  2023-02-20_17-52-36_with_timecorr  arm_left       13   \n",
       "3    anna  2023-02-20_17-52-36_with_timecorr  arm_left       15   \n",
       "4    anna  2023-02-20_17-52-36_with_timecorr  arm_left       18   \n",
       "\n",
       "                         path  \\\n",
       "0  arm_left_10_1676912164.csv   \n",
       "1  arm_left_11_1676912181.csv   \n",
       "2  arm_left_13_1676912214.csv   \n",
       "3  arm_left_15_1676912247.csv   \n",
       "4  arm_left_18_1676912297.csv   \n",
       "\n",
       "                                              sample  \\\n",
       "0       Unnamed: 0     class  time_in_s         C...   \n",
       "1       Unnamed: 0     class  time_in_s         C...   \n",
       "2       Unnamed: 0     class  time_in_s         C...   \n",
       "3       Unnamed: 0     class  time_in_s         C...   \n",
       "4       Unnamed: 0     class  time_in_s         C...   \n",
       "\n",
       "                                            filtered train_split  \\\n",
       "0       time_in_s         CZ         C4        T4...       train   \n",
       "1       time_in_s         CZ         C4        T4...       train   \n",
       "2       time_in_s         CZ         C4         T...       train   \n",
       "3       time_in_s        CZ        C4        T4  ...       train   \n",
       "4       time_in_s        CZ        C4        T4  ...       train   \n",
       "\n",
       "                                                 csp  \n",
       "0       time_in_s        CZ        C4        T4  ...  \n",
       "1       time_in_s        CZ        C4        T4  ...  \n",
       "2       time_in_s        CZ        C4        T4  ...  \n",
       "3       time_in_s        CZ        C4        T4  ...  \n",
       "4       time_in_s        CZ        C4        T4  ...  "
      ]
     },
     "execution_count": 131,
     "metadata": {},
     "output_type": "execute_result"
    }
   ],
   "source": [
    "trainingset.data.head()"
   ]
  },
  {
   "cell_type": "markdown",
   "id": "313ae17d",
   "metadata": {},
   "source": [
    "# Apply LDA"
   ]
  },
  {
   "cell_type": "code",
   "execution_count": 132,
   "id": "94b18995",
   "metadata": {},
   "outputs": [
    {
     "name": "stdout",
     "output_type": "stream",
     "text": [
      "(16, 2)\n"
     ]
    }
   ],
   "source": [
    "print(np.shape(training_data['train']['arm_left']))\n",
    "W, b = train_lda(class1 = training_data['train']['arm_left'], class2 = training_data['train']['arm_right'])"
   ]
  },
  {
   "cell_type": "code",
   "execution_count": 133,
   "id": "80351928",
   "metadata": {},
   "outputs": [
    {
     "data": {
      "image/png": "[encoded data removed]",
      "text/plain": [
       "<Figure size 1200x500 with 2 Axes>"
      ]
     },
     "metadata": {},
     "output_type": "display_data"
    }
   ],
   "source": [
    "plot_LDA(training_data['train'], training_data['test'], b, W, trainingset.classes, trainingset.selected_csp_components)"
   ]
  },
  {
   "cell_type": "code",
   "execution_count": null,
   "id": "0719b342",
   "metadata": {},
   "outputs": [],
   "source": []
  }
 ],
 "metadata": {
  "kernelspec": {
   "display_name": "Python 3 (ipykernel)",
   "language": "python",
   "name": "python3"
  },
  "language_info": {
   "codemirror_mode": {
    "name": "ipython",
    "version": 3
   },
   "file_extension": ".py",
   "mimetype": "text/x-python",
   "name": "python",
   "nbconvert_exporter": "python",
   "pygments_lexer": "ipython3",
   "version": "3.10.9"
  }
 },
 "nbformat": 4,
 "nbformat_minor": 5
}
