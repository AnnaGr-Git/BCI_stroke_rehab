{
 "cells": [
  {
   "cell_type": "code",
   "execution_count": 4,
   "id": "20ff6aac",
   "metadata": {},
   "outputs": [],
   "source": [
    "import numpy as np\n",
    "import os\n",
    "import pandas as pd\n",
    "from matplotlib import mlab\n",
    "import matplotlib.pyplot as plt\n",
    "\n",
    "from src.data.make_dataset import BCIDataset\n",
    "from src.visualization.plotting import plot_data, plot_data_logvar, plot_LDA\n",
    "from src.data.signal_processing import best_csp_components, logvar, train_lda\n",
    "\n",
    "%load_ext autoreload\n",
    "%autoreload 2"
   ]
  },
  {
   "cell_type": "code",
   "execution_count": 63,
   "id": "3a328d73",
   "metadata": {},
   "outputs": [],
   "source": [
    "# subjects = [\"dani\", \"anna\", \"pablo\"]\n",
    "# measurements = [\"2023-03-07_18-29-54\", \"2023-03-07_18-48-22\", \"2023-03-07_19-00-01_move\",\n",
    "#                 \"2023-03-10_18-22-48\", \"2023-03-10_18-14-09\", \"2023-03-10_18-04-54_move\",\n",
    "#                 \"2023-03-10_15-30-01_move\", \"2023-03-10_15-40-28\", \"2023-03-10_15-50-40\"]\n",
    "\n",
    "subjects = [\"anna\",\"nuria\"]\n",
    "measurements = [\"2023-03-10_18-22-48\", \"2023-03-10_18-14-09\", \"2023-03-10_18-04-54_move\",\n",
    "                 \"nuri_06\"]\n",
    "\n",
    "data_root = \"C:/Users/annag/OneDrive - Danmarks Tekniske Universitet/Semester_04/Special_Course_BCI/03_code/BCI_stroke_rehab/data/raw/\""
   ]
  },
  {
   "cell_type": "markdown",
   "id": "d21b0265",
   "metadata": {},
   "source": [
    "# Create dataset"
   ]
  },
  {
   "cell_type": "code",
   "execution_count": 64,
   "id": "1a45363e",
   "metadata": {},
   "outputs": [],
   "source": [
    "trainingset = BCIDataset(data_root, subjects, measurements, measurement_length=3)"
   ]
  },
  {
   "cell_type": "code",
   "execution_count": 65,
   "id": "4dd84ee9",
   "metadata": {},
   "outputs": [
    {
     "data": {
      "text/plain": [
       "874"
      ]
     },
     "execution_count": 65,
     "metadata": {},
     "output_type": "execute_result"
    }
   ],
   "source": [
    "len(trainingset.data)"
   ]
  },
  {
   "cell_type": "code",
   "execution_count": 66,
   "id": "e0090cce",
   "metadata": {},
   "outputs": [
    {
     "data": {
      "text/html": [
       "<div>\n",
       "<style scoped>\n",
       "    .dataframe tbody tr th:only-of-type {\n",
       "        vertical-align: middle;\n",
       "    }\n",
       "\n",
       "    .dataframe tbody tr th {\n",
       "        vertical-align: top;\n",
       "    }\n",
       "\n",
       "    .dataframe thead th {\n",
       "        text-align: right;\n",
       "    }\n",
       "</style>\n",
       "<table border=\"1\" class=\"dataframe\">\n",
       "  <thead>\n",
       "    <tr style=\"text-align: right;\">\n",
       "      <th></th>\n",
       "      <th>subject</th>\n",
       "      <th>measurement</th>\n",
       "      <th>class</th>\n",
       "      <th>sampleID</th>\n",
       "      <th>path</th>\n",
       "      <th>sample</th>\n",
       "    </tr>\n",
       "  </thead>\n",
       "  <tbody>\n",
       "    <tr>\n",
       "      <th>0</th>\n",
       "      <td>anna</td>\n",
       "      <td>2023-03-10_18-22-48</td>\n",
       "      <td>arm_left</td>\n",
       "      <td>11</td>\n",
       "      <td>arm_left_11_1678469093.csv</td>\n",
       "      <td>Unnamed: 0     class  time_in_s         C...</td>\n",
       "    </tr>\n",
       "    <tr>\n",
       "      <th>1</th>\n",
       "      <td>anna</td>\n",
       "      <td>2023-03-10_18-22-48</td>\n",
       "      <td>arm_left</td>\n",
       "      <td>12</td>\n",
       "      <td>arm_left_12_1678469104.csv</td>\n",
       "      <td>Unnamed: 0     class  time_in_s         C...</td>\n",
       "    </tr>\n",
       "    <tr>\n",
       "      <th>2</th>\n",
       "      <td>anna</td>\n",
       "      <td>2023-03-10_18-22-48</td>\n",
       "      <td>arm_left</td>\n",
       "      <td>16</td>\n",
       "      <td>arm_left_16_1678469147.csv</td>\n",
       "      <td>Unnamed: 0     class  time_in_s         C...</td>\n",
       "    </tr>\n",
       "    <tr>\n",
       "      <th>3</th>\n",
       "      <td>anna</td>\n",
       "      <td>2023-03-10_18-22-48</td>\n",
       "      <td>arm_left</td>\n",
       "      <td>18</td>\n",
       "      <td>arm_left_18_1678469168.csv</td>\n",
       "      <td>Unnamed: 0     class  time_in_s         C...</td>\n",
       "    </tr>\n",
       "    <tr>\n",
       "      <th>4</th>\n",
       "      <td>anna</td>\n",
       "      <td>2023-03-10_18-22-48</td>\n",
       "      <td>arm_left</td>\n",
       "      <td>20</td>\n",
       "      <td>arm_left_20_1678469189.csv</td>\n",
       "      <td>Unnamed: 0     class  time_in_s         C...</td>\n",
       "    </tr>\n",
       "  </tbody>\n",
       "</table>\n",
       "</div>"
      ],
      "text/plain": [
       "  subject          measurement     class sampleID                        path  \\\n",
       "0    anna  2023-03-10_18-22-48  arm_left       11  arm_left_11_1678469093.csv   \n",
       "1    anna  2023-03-10_18-22-48  arm_left       12  arm_left_12_1678469104.csv   \n",
       "2    anna  2023-03-10_18-22-48  arm_left       16  arm_left_16_1678469147.csv   \n",
       "3    anna  2023-03-10_18-22-48  arm_left       18  arm_left_18_1678469168.csv   \n",
       "4    anna  2023-03-10_18-22-48  arm_left       20  arm_left_20_1678469189.csv   \n",
       "\n",
       "                                              sample  \n",
       "0       Unnamed: 0     class  time_in_s         C...  \n",
       "1       Unnamed: 0     class  time_in_s         C...  \n",
       "2       Unnamed: 0     class  time_in_s         C...  \n",
       "3       Unnamed: 0     class  time_in_s         C...  \n",
       "4       Unnamed: 0     class  time_in_s         C...  "
      ]
     },
     "execution_count": 66,
     "metadata": {},
     "output_type": "execute_result"
    }
   ],
   "source": [
    "trainingset.data.head()"
   ]
  },
  {
   "cell_type": "markdown",
   "id": "2ea26f20",
   "metadata": {},
   "source": [
    "# Preprocessing"
   ]
  },
  {
   "cell_type": "markdown",
   "id": "a978c8b4",
   "metadata": {},
   "source": [
    "## Validate data"
   ]
  },
  {
   "cell_type": "code",
   "execution_count": 91,
   "id": "52556cb1",
   "metadata": {},
   "outputs": [
    {
     "name": "stdout",
     "output_type": "stream",
     "text": [
      "Total invalid samples: 15\n"
     ]
    }
   ],
   "source": [
    "trainingset.validate_data()"
   ]
  },
  {
   "cell_type": "markdown",
   "id": "2c45b8de",
   "metadata": {},
   "source": [
    "## Filter data"
   ]
  },
  {
   "cell_type": "code",
   "execution_count": 92,
   "id": "83734464",
   "metadata": {},
   "outputs": [],
   "source": [
    "trainingset.apply_bandpass_filtering(selected_data=\"sample\")"
   ]
  },
  {
   "cell_type": "markdown",
   "id": "9e8b3779",
   "metadata": {},
   "source": [
    "# Create training data"
   ]
  },
  {
   "cell_type": "code",
   "execution_count": 93,
   "id": "de752b16",
   "metadata": {},
   "outputs": [],
   "source": [
    "mode = [\"class_as_array\",\"class_as_key\"][1]\n",
    "test_size = 0.2\n",
    "#test_subjects = []\n",
    "test_subjects = [\"anna\"]"
   ]
  },
  {
   "cell_type": "code",
   "execution_count": 96,
   "id": "dd82b1cd",
   "metadata": {},
   "outputs": [
    {
     "name": "stdout",
     "output_type": "stream",
     "text": [
      "Split data using ['anna'] for testing.\n",
      "Split dataset in 739 train and 120 test samples.\n",
      "shape csp: (16, 375, 367)\n",
      "COV with trace..\n",
      "COV with trace..\n",
      "shape Cr: (16, 16), shape Cl: (16, 16), shape Cc: (16, 16)\n",
      "Used SVD\n",
      "shape U: (16, 16), shape s: (16,)\n",
      "shape P: (16, 16)\n",
      "Used SVD\n",
      "shape U: (16, 16), shape s: (16,)\n",
      "Selected CSP components: [0, 15]\n"
     ]
    }
   ],
   "source": [
    "training_data = trainingset.create_training_data(test_size, mode,best2components=True, test_subjects=test_subjects)"
   ]
  },
  {
   "cell_type": "code",
   "execution_count": 97,
   "id": "149f5613",
   "metadata": {},
   "outputs": [
    {
     "data": {
      "text/plain": [
       "dict_keys(['train', 'test'])"
      ]
     },
     "execution_count": 97,
     "metadata": {},
     "output_type": "execute_result"
    }
   ],
   "source": [
    "training_data.keys()"
   ]
  },
  {
   "cell_type": "code",
   "execution_count": 98,
   "id": "dc9f4bd5",
   "metadata": {},
   "outputs": [
    {
     "data": {
      "text/plain": [
       "dict_keys(['arm_left', 'arm_right'])"
      ]
     },
     "execution_count": 98,
     "metadata": {},
     "output_type": "execute_result"
    }
   ],
   "source": [
    "training_data['test'].keys()"
   ]
  },
  {
   "cell_type": "code",
   "execution_count": 99,
   "id": "24219aa8",
   "metadata": {},
   "outputs": [
    {
     "data": {
      "text/html": [
       "<div>\n",
       "<style scoped>\n",
       "    .dataframe tbody tr th:only-of-type {\n",
       "        vertical-align: middle;\n",
       "    }\n",
       "\n",
       "    .dataframe tbody tr th {\n",
       "        vertical-align: top;\n",
       "    }\n",
       "\n",
       "    .dataframe thead th {\n",
       "        text-align: right;\n",
       "    }\n",
       "</style>\n",
       "<table border=\"1\" class=\"dataframe\">\n",
       "  <thead>\n",
       "    <tr style=\"text-align: right;\">\n",
       "      <th></th>\n",
       "      <th>subject</th>\n",
       "      <th>measurement</th>\n",
       "      <th>class</th>\n",
       "      <th>sampleID</th>\n",
       "      <th>path</th>\n",
       "      <th>sample</th>\n",
       "      <th>filtered</th>\n",
       "      <th>train_split</th>\n",
       "      <th>csp</th>\n",
       "    </tr>\n",
       "  </thead>\n",
       "  <tbody>\n",
       "    <tr>\n",
       "      <th>0</th>\n",
       "      <td>anna</td>\n",
       "      <td>2023-03-10_18-22-48</td>\n",
       "      <td>arm_left</td>\n",
       "      <td>11</td>\n",
       "      <td>arm_left_11_1678469093.csv</td>\n",
       "      <td>Unnamed: 0     class  time_in_s         C...</td>\n",
       "      <td>time_in_s        CZ        C4        T4  ...</td>\n",
       "      <td>test</td>\n",
       "      <td>time_in_s         CZ         C4         T...</td>\n",
       "    </tr>\n",
       "    <tr>\n",
       "      <th>1</th>\n",
       "      <td>anna</td>\n",
       "      <td>2023-03-10_18-22-48</td>\n",
       "      <td>arm_left</td>\n",
       "      <td>12</td>\n",
       "      <td>arm_left_12_1678469104.csv</td>\n",
       "      <td>Unnamed: 0     class  time_in_s         C...</td>\n",
       "      <td>time_in_s        CZ        C4         T4 ...</td>\n",
       "      <td>test</td>\n",
       "      <td>time_in_s         CZ         C4         T...</td>\n",
       "    </tr>\n",
       "    <tr>\n",
       "      <th>2</th>\n",
       "      <td>anna</td>\n",
       "      <td>2023-03-10_18-22-48</td>\n",
       "      <td>arm_left</td>\n",
       "      <td>16</td>\n",
       "      <td>arm_left_16_1678469147.csv</td>\n",
       "      <td>Unnamed: 0     class  time_in_s         C...</td>\n",
       "      <td>time_in_s         CZ         C4         T...</td>\n",
       "      <td>test</td>\n",
       "      <td>time_in_s         CZ         C4         T...</td>\n",
       "    </tr>\n",
       "    <tr>\n",
       "      <th>3</th>\n",
       "      <td>anna</td>\n",
       "      <td>2023-03-10_18-22-48</td>\n",
       "      <td>arm_left</td>\n",
       "      <td>18</td>\n",
       "      <td>arm_left_18_1678469168.csv</td>\n",
       "      <td>Unnamed: 0     class  time_in_s         C...</td>\n",
       "      <td>time_in_s        CZ        C4        T4  ...</td>\n",
       "      <td>test</td>\n",
       "      <td>time_in_s         CZ         C4         T...</td>\n",
       "    </tr>\n",
       "    <tr>\n",
       "      <th>4</th>\n",
       "      <td>anna</td>\n",
       "      <td>2023-03-10_18-22-48</td>\n",
       "      <td>arm_left</td>\n",
       "      <td>20</td>\n",
       "      <td>arm_left_20_1678469189.csv</td>\n",
       "      <td>Unnamed: 0     class  time_in_s         C...</td>\n",
       "      <td>time_in_s         CZ        C4        T4 ...</td>\n",
       "      <td>test</td>\n",
       "      <td>time_in_s         CZ         C4        T4...</td>\n",
       "    </tr>\n",
       "  </tbody>\n",
       "</table>\n",
       "</div>"
      ],
      "text/plain": [
       "  subject          measurement     class sampleID                        path  \\\n",
       "0    anna  2023-03-10_18-22-48  arm_left       11  arm_left_11_1678469093.csv   \n",
       "1    anna  2023-03-10_18-22-48  arm_left       12  arm_left_12_1678469104.csv   \n",
       "2    anna  2023-03-10_18-22-48  arm_left       16  arm_left_16_1678469147.csv   \n",
       "3    anna  2023-03-10_18-22-48  arm_left       18  arm_left_18_1678469168.csv   \n",
       "4    anna  2023-03-10_18-22-48  arm_left       20  arm_left_20_1678469189.csv   \n",
       "\n",
       "                                              sample  \\\n",
       "0       Unnamed: 0     class  time_in_s         C...   \n",
       "1       Unnamed: 0     class  time_in_s         C...   \n",
       "2       Unnamed: 0     class  time_in_s         C...   \n",
       "3       Unnamed: 0     class  time_in_s         C...   \n",
       "4       Unnamed: 0     class  time_in_s         C...   \n",
       "\n",
       "                                            filtered train_split  \\\n",
       "0       time_in_s        CZ        C4        T4  ...        test   \n",
       "1       time_in_s        CZ        C4         T4 ...        test   \n",
       "2       time_in_s         CZ         C4         T...        test   \n",
       "3       time_in_s        CZ        C4        T4  ...        test   \n",
       "4       time_in_s         CZ        C4        T4 ...        test   \n",
       "\n",
       "                                                 csp  \n",
       "0       time_in_s         CZ         C4         T...  \n",
       "1       time_in_s         CZ         C4         T...  \n",
       "2       time_in_s         CZ         C4         T...  \n",
       "3       time_in_s         CZ         C4         T...  \n",
       "4       time_in_s         CZ         C4        T4...  "
      ]
     },
     "execution_count": 99,
     "metadata": {},
     "output_type": "execute_result"
    }
   ],
   "source": [
    "trainingset.data.head()"
   ]
  },
  {
   "cell_type": "markdown",
   "id": "313ae17d",
   "metadata": {},
   "source": [
    "# Apply LDA"
   ]
  },
  {
   "cell_type": "code",
   "execution_count": 100,
   "id": "94b18995",
   "metadata": {},
   "outputs": [
    {
     "name": "stdout",
     "output_type": "stream",
     "text": [
      "(372, 2)\n"
     ]
    }
   ],
   "source": [
    "print(np.shape(training_data['train']['arm_left']))\n",
    "W, b = train_lda(class1 = training_data['train']['arm_left'], class2 = training_data['train']['arm_right'])"
   ]
  },
  {
   "cell_type": "code",
   "execution_count": 101,
   "id": "a2be9c58",
   "metadata": {},
   "outputs": [
    {
     "name": "stdout",
     "output_type": "stream",
     "text": [
      "(2,)\n"
     ]
    }
   ],
   "source": [
    "print(np.shape(W))"
   ]
  },
  {
   "cell_type": "code",
   "execution_count": 103,
   "id": "0719b342",
   "metadata": {},
   "outputs": [
    {
     "name": "stdout",
     "output_type": "stream",
     "text": [
      "MIN: 4.424362924176791\n",
      "Components: [0, 15]\n",
      "Class 1: arm_left\n",
      "Class 2: arm_right\n",
      "shape: (372, 2)\n"
     ]
    },
    {
     "data": {
      "image/png": "[encoded data removed]",
      "text/plain": [
       "<Figure size 1200x500 with 2 Axes>"
      ]
     },
     "metadata": {},
     "output_type": "display_data"
    }
   ],
   "source": [
    "plot_LDA(training_data['train'], training_data['test'], b, W, trainingset.classes, trainingset.selected_csp_components)"
   ]
  },
  {
   "cell_type": "code",
   "execution_count": null,
   "id": "d74b1577",
   "metadata": {},
   "outputs": [],
   "source": []
  },
  {
   "cell_type": "code",
   "execution_count": null,
   "id": "d93e0003",
   "metadata": {},
   "outputs": [],
   "source": []
  },
  {
   "cell_type": "code",
   "execution_count": null,
   "id": "bff369c3",
   "metadata": {},
   "outputs": [],
   "source": []
  },
  {
   "cell_type": "code",
   "execution_count": null,
   "id": "65c0adb4",
   "metadata": {},
   "outputs": [],
   "source": []
  }
 ],
 "metadata": {
  "kernelspec": {
   "display_name": "Python 3 (ipykernel)",
   "language": "python",
   "name": "python3"
  },
  "language_info": {
   "codemirror_mode": {
    "name": "ipython",
    "version": 3
   },
   "file_extension": ".py",
   "mimetype": "text/x-python",
   "name": "python",
   "nbconvert_exporter": "python",
   "pygments_lexer": "ipython3",
   "version": "3.10.9"
  }
 },
 "nbformat": 4,
 "nbformat_minor": 5
}
