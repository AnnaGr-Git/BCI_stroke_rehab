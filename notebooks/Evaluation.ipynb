{
 "cells": [
  {
   "cell_type": "code",
   "execution_count": 3,
   "id": "bb70d71a",
   "metadata": {},
   "outputs": [
    {
     "name": "stdout",
     "output_type": "stream",
     "text": [
      "The autoreload extension is already loaded. To reload it, use:\n",
      "  %reload_ext autoreload\n"
     ]
    }
   ],
   "source": [
    "import numpy as np\n",
    "from sklearn.metrics import accuracy_score\n",
    "from sklearn.model_selection import train_test_split\n",
    "from keras.utils import plot_model\n",
    "\n",
    "\n",
    "from src.data.make_dataset import BCIDataset\n",
    "from src.models.ML_models import NN_model,LDA_model,QDA_model,XGB_model,SVM_model\n",
    "from src.models.validate_models import validate_models_CV, validate_models_LOSO\n",
    "from src.visualization.plotting import plot_history\n",
    "\n",
    "%load_ext autoreload\n",
    "%autoreload 2"
   ]
  },
  {
   "cell_type": "code",
   "execution_count": 16,
   "id": "9b60806a",
   "metadata": {},
   "outputs": [],
   "source": [
    "data_root = \"C:/Users/annag/OneDrive - Danmarks Tekniske Universitet/Semester_04/Special_Course_BCI/03_code/BCI_stroke_rehab/data/raw/\"\n",
    "# subjects = [\"nuria\"]\n",
    "# measurements = [\"nuri_06\"] \n",
    "\n",
    "# subjects = [\"dani\", \"pablo\", \"huiyu\", \"manu\", \"fabio\", \"ivo\", \"anna\", \"luisa\", \"sarah\", \"irene\"]\n",
    "# measurements = [\"2023-03-07_18-29-54\", \"2023-03-07_18-48-22\", \"2023-03-07_19-00-01_move\",\n",
    "#                 \"2023-03-10_15-30-01_move\", \"2023-03-10_15-40-28\", \"2023-03-10_15-50-40\",\n",
    "#                 \"2023-03-09_15-45-59_move\", \"2023-03-09_15-57-32\", \"2023-03-09_16-09-04\",\n",
    "#                 \"2023-03-20_16-27-55_move\", \"2023-03-20_16-37-23\", \"2023-03-20_16-51-03\",\n",
    "#                 \"2023-03-21_16-15-57_move\", \"2023-03-21_16-26-21\", \"2023-03-21_16-36-55\",\n",
    "#                 \"2023-03-09_16-37-21_move\", \"2023-03-09_16-50-05\", \"2023-03-09_17-03-08\",\n",
    "#                 \"2023-03-10_18-04-54_move\", \"2023-03-10_18-14-09\", \"2023-03-10_18-22-48\",\n",
    "#                 \"2023-03-10_17-26-16_move\", \"2023-03-10_17-35-13\", \"2023-03-10_17-44-40\",\n",
    "#                 \"2023-03-10_16-35-20_move\", \"2023-03-10_16-44-51\", \"2023-03-10_16-58-25\",\n",
    "#                 \"2023-03-21_15-27-37_move\", \"2023-03-21_15-37-54\", \"2023-03-21_15-49-00\"]\n",
    "\n",
    "subjects = [\"dani\", \"pablo\", \"huiyu\", \"manu\", \"fabio\", \"anna\", \"luisa\", \"sarah\", \"irene\"]\n",
    "measurements = [\"2023-03-07_18-29-54\", \"2023-03-07_18-48-22\", \"2023-03-07_19-00-01_move\",\n",
    "                \"2023-03-10_15-30-01_move\", \"2023-03-10_15-40-28\", \"2023-03-10_15-50-40\",\n",
    "                \"2023-03-09_15-45-59_move\", \"2023-03-09_15-57-32\", \"2023-03-09_16-09-04\",\n",
    "                \"2023-03-20_16-27-55_move\", \"2023-03-20_16-37-23\", \"2023-03-20_16-51-03\",\n",
    "                \"2023-03-21_16-15-57_move\", \"2023-03-21_16-26-21\", \"2023-03-21_16-36-55\",\n",
    "                \"2023-03-10_18-04-54_move\", \"2023-03-10_18-14-09\", \"2023-03-10_18-22-48\",\n",
    "                \"2023-03-10_17-26-16_move\", \"2023-03-10_17-35-13\", \"2023-03-10_17-44-40\",\n",
    "                \"2023-03-10_16-35-20_move\", \"2023-03-10_16-44-51\", \"2023-03-10_16-58-25\",\n",
    "                \"2023-03-21_15-27-37_move\", \"2023-03-21_15-37-54\", \"2023-03-21_15-49-00\"]"
   ]
  },
  {
   "cell_type": "markdown",
   "id": "b628192c",
   "metadata": {},
   "source": [
    "# Evaluation with Cross Validation (Stratified KFold)"
   ]
  },
  {
   "cell_type": "code",
   "execution_count": null,
   "id": "d6912d12",
   "metadata": {},
   "outputs": [],
   "source": [
    "accuracies = validate_models_CV(data_root, subjects, measurements, num_folds = 10, num_components=[2,4,None])\n",
    "#accuracies = validate_models_CV(data_root, subjects, measurements, num_folds = 10, num_components=[None])"
   ]
  },
  {
   "cell_type": "markdown",
   "id": "61cf6ea7",
   "metadata": {},
   "source": [
    "### 2 components"
   ]
  },
  {
   "cell_type": "code",
   "execution_count": null,
   "id": "a9f5407e",
   "metadata": {},
   "outputs": [],
   "source": [
    "print(f\"LDA: train={np.mean(accuracies['2_components']['LDA']['train'])}; test={np.mean(accuracies['2_components']['LDA']['test'])}\")\n",
    "print(f\"QDA: train={np.mean(accuracies['2_components']['QDA']['train'])}; test={np.mean(accuracies['2_components']['QDA']['test'])}\")\n",
    "print(f\"XGB: train={np.mean(accuracies['2_components']['XGB']['train'])}; test={np.mean(accuracies['2_components']['XGB']['test'])}\")\n",
    "print(f\"SVM: train={np.mean(accuracies['2_components']['SVM']['train'])}; test={np.mean(accuracies['2_components']['SVM']['test'])}\")\n",
    "print(f\"NN: train={np.mean(accuracies['2_components']['NN']['train'])}; test={np.mean(accuracies['2_components']['NN']['test'])}\")"
   ]
  },
  {
   "cell_type": "markdown",
   "id": "bfed515e",
   "metadata": {},
   "source": [
    "### 4 components"
   ]
  },
  {
   "cell_type": "code",
   "execution_count": null,
   "id": "c56ea877",
   "metadata": {},
   "outputs": [],
   "source": [
    "print(f\"LDA: train={np.mean(accuracies['4_components']['LDA']['train'])}; test={np.mean(accuracies['4_components']['LDA']['test'])}\")\n",
    "print(f\"QDA: train={np.mean(accuracies['4_components']['QDA']['train'])}; test={np.mean(accuracies['4_components']['QDA']['test'])}\")\n",
    "print(f\"XGB: train={np.mean(accuracies['4_components']['XGB']['train'])}; test={np.mean(accuracies['4_components']['XGB']['test'])}\")\n",
    "print(f\"SVM: train={np.mean(accuracies['4_components']['SVM']['train'])}; test={np.mean(accuracies['4_components']['SVM']['test'])}\")\n",
    "print(f\"NN: train={np.mean(accuracies['4_components']['NN']['train'])}; test={np.mean(accuracies['4_components']['NN']['test'])}\")"
   ]
  },
  {
   "cell_type": "markdown",
   "id": "e8ed0de8",
   "metadata": {},
   "source": [
    "### All components"
   ]
  },
  {
   "cell_type": "code",
   "execution_count": null,
   "id": "aadad96b",
   "metadata": {},
   "outputs": [],
   "source": [
    "print(f\"LDA: train={np.mean(accuracies['None_components']['LDA']['train'])}; test={np.mean(accuracies['None_components']['LDA']['test'])}\")\n",
    "print(f\"QDA: train={np.mean(accuracies['None_components']['QDA']['train'])}; test={np.mean(accuracies['None_components']['QDA']['test'])}\")\n",
    "print(f\"XGB: train={np.mean(accuracies['None_components']['XGB']['train'])}; test={np.mean(accuracies['None_components']['XGB']['test'])}\")\n",
    "print(f\"SVM: train={np.mean(accuracies['None_components']['SVM']['train'])}; test={np.mean(accuracies['None_components']['SVM']['test'])}\")\n",
    "print(f\"NN: train={np.mean(accuracies['None_components']['NN']['train'])}; test={np.mean(accuracies['None_components']['NN']['test'])}\")"
   ]
  },
  {
   "cell_type": "markdown",
   "id": "677fd347",
   "metadata": {},
   "source": [
    "# Evaluation with CV \"Leave-One-Subject-Out\""
   ]
  },
  {
   "cell_type": "code",
   "execution_count": 17,
   "id": "0e2dafc0",
   "metadata": {},
   "outputs": [
    {
     "name": "stdout",
     "output_type": "stream",
     "text": [
      "Total invalid samples: 50\n",
      "Subjects: ['dani', 'pablo', 'huiyu', 'manu', 'fabio', 'anna', 'luisa', 'sarah', 'irene']\n",
      "Testing on subject dani.\n",
      "Shape data_array: (1030, 375, 16)\n",
      "Selected CSP components: [15, 0, 14, 3]\n",
      "Shape CSP data: (1030, 375, 4)\n",
      "Shape features: (1030, 4)\n",
      "29/29 [==============================] - 0s 3ms/step\n",
      "2/2 [==============================] - 0s 4ms/step\n",
      "Testing on subject pablo.\n",
      "Shape data_array: (1030, 375, 16)\n",
      "Selected CSP components: [15, 0, 14, 1]\n",
      "Shape CSP data: (1030, 375, 4)\n",
      "Shape features: (1030, 4)\n",
      "29/29 [==============================] - 0s 2ms/step\n",
      "2/2 [==============================] - 0s 4ms/step\n",
      "Testing on subject huiyu.\n",
      "Shape data_array: (1030, 375, 16)\n",
      "Selected CSP components: [15, 0, 14, 3]\n",
      "Shape CSP data: (1030, 375, 4)\n",
      "Shape features: (1030, 4)\n",
      "29/29 [==============================] - 0s 2ms/step\n",
      "2/2 [==============================] - 0s 3ms/step\n",
      "Testing on subject manu.\n",
      "Shape data_array: (1030, 375, 16)\n",
      "Selected CSP components: [15, 0, 14, 1]\n",
      "Shape CSP data: (1030, 375, 4)\n",
      "Shape features: (1030, 4)\n",
      "30/30 [==============================] - 0s 2ms/step\n",
      "2/2 [==============================] - 0s 3ms/step\n",
      "Testing on subject fabio.\n",
      "Shape data_array: (1030, 375, 16)\n",
      "Selected CSP components: [15, 0, 14, 3]\n",
      "Shape CSP data: (1030, 375, 4)\n",
      "Shape features: (1030, 4)\n",
      "29/29 [==============================] - 0s 2ms/step\n",
      "2/2 [==============================] - 0s 4ms/step\n",
      "Testing on subject anna.\n",
      "Shape data_array: (1030, 375, 16)\n",
      "Selected CSP components: [15, 0, 14, 1]\n",
      "Shape CSP data: (1030, 375, 4)\n",
      "Shape features: (1030, 4)\n",
      "29/29 [==============================] - 0s 2ms/step\n",
      "2/2 [==============================] - 0s 4ms/step\n",
      "Testing on subject luisa.\n",
      "Shape data_array: (1030, 375, 16)\n",
      "Selected CSP components: [15, 0, 14, 1]\n",
      "Shape CSP data: (1030, 375, 4)\n",
      "Shape features: (1030, 4)\n",
      "29/29 [==============================] - 0s 2ms/step\n",
      "2/2 [==============================] - 0s 4ms/step\n",
      "Testing on subject sarah.\n",
      "Shape data_array: (1030, 375, 16)\n",
      "Selected CSP components: [15, 0, 14, 2]\n",
      "Shape CSP data: (1030, 375, 4)\n",
      "Shape features: (1030, 4)\n",
      "29/29 [==============================] - 0s 2ms/step\n",
      "2/2 [==============================] - 0s 4ms/step\n",
      "Testing on subject irene.\n",
      "Shape data_array: (1030, 375, 16)\n",
      "Selected CSP components: [15, 0, 14, 1]\n",
      "Shape CSP data: (1030, 375, 4)\n",
      "Shape features: (1030, 4)\n",
      "29/29 [==============================] - 0s 2ms/step\n",
      "2/2 [==============================] - 0s 3ms/step\n"
     ]
    }
   ],
   "source": [
    "accuracies_LOSO = validate_models_LOSO(data_root, subjects, measurements, num_components=[4])"
   ]
  },
  {
   "cell_type": "code",
   "execution_count": 20,
   "id": "449dcd56",
   "metadata": {
    "scrolled": false
   },
   "outputs": [
    {
     "name": "stdout",
     "output_type": "stream",
     "text": [
      "{'train': [0.7043956043956044, 0.6998904709748083, 0.710239651416122, 0.6992481203007519, 0.7142857142857143, 0.6692307692307692, 0.7274725274725274, 0.7156970362239298, 0.7001078748651565], 'test': [0.5916666666666667, 0.6581196581196581, 0.5714285714285714, 0.48484848484848486, 0.48333333333333334, 0.8333333333333334, 0.5083333333333333, 0.5126050420168067, 0.49514563106796117]}\n",
      "Train Mean: 0.7045075299072648\n",
      "Test Mean: 0.5709793393497944\n"
     ]
    }
   ],
   "source": [
    "print(accuracies_LOSO['4_components']['SVM'])\n",
    "print(f\"Train Mean: {np.mean(accuracies_LOSO['4_components']['SVM']['train'])}\")\n",
    "print(f\"Test Mean: {np.mean(accuracies_LOSO['4_components']['SVM']['test'])}\")"
   ]
  },
  {
   "cell_type": "code",
   "execution_count": 21,
   "id": "058b368d",
   "metadata": {},
   "outputs": [
    {
     "name": "stdout",
     "output_type": "stream",
     "text": [
      "{'train': [0.6956043956043956, 0.6670317634173056, 0.690631808278867, 0.6842105263157895, 0.6846153846153846, 0.6538461538461539, 0.6956043956043956, 0.6915477497255763, 0.6828478964401294], 'test': [0.5166666666666667, 0.6610169491525424, 0.5357142857142857, 0.6, 0.55, 0.8, 0.4666666666666667, 0.55, 0.5192307692307693]}\n",
      "Train Mean: 0.6828822304275552\n",
      "Test Mean: 0.57769948193677\n"
     ]
    }
   ],
   "source": [
    "print(accuracies_LOSO['4_components']['NN'])\n",
    "print(f\"Train Mean: {np.mean(accuracies_LOSO['4_components']['NN']['train'])}\")\n",
    "print(f\"Test Mean: {np.mean(accuracies_LOSO['4_components']['NN']['test'])}\")"
   ]
  },
  {
   "cell_type": "code",
   "execution_count": null,
   "id": "3fa2b882",
   "metadata": {},
   "outputs": [],
   "source": []
  }
 ],
 "metadata": {
  "kernelspec": {
   "display_name": "Python 3 (ipykernel)",
   "language": "python",
   "name": "python3"
  },
  "language_info": {
   "codemirror_mode": {
    "name": "ipython",
    "version": 3
   },
   "file_extension": ".py",
   "mimetype": "text/x-python",
   "name": "python",
   "nbconvert_exporter": "python",
   "pygments_lexer": "ipython3",
   "version": "3.10.9"
  }
 },
 "nbformat": 4,
 "nbformat_minor": 5
}
