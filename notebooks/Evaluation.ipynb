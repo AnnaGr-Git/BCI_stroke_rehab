{
 "cells": [
  {
   "cell_type": "code",
   "execution_count": 12,
   "id": "bb70d71a",
   "metadata": {},
   "outputs": [
    {
     "name": "stdout",
     "output_type": "stream",
     "text": [
      "The autoreload extension is already loaded. To reload it, use:\n",
      "  %reload_ext autoreload\n"
     ]
    }
   ],
   "source": [
    "import numpy as np\n",
    "from sklearn.metrics import accuracy_score\n",
    "from sklearn.model_selection import train_test_split\n",
    "from keras.utils import plot_model\n",
    "\n",
    "\n",
    "from src.data.make_dataset import BCIDataset\n",
    "from src.models.ML_models import NN_model,LDA_model,QDA_model,XGB_model,SVM_model\n",
    "from src.models.validate_models import validate_models_CV, validate_models_LOSO\n",
    "from src.visualization.plotting import plot_history\n",
    "\n",
    "%load_ext autoreload\n",
    "%autoreload 2"
   ]
  },
  {
   "cell_type": "code",
   "execution_count": 15,
   "id": "9b60806a",
   "metadata": {},
   "outputs": [],
   "source": [
    "data_root = \"C:/Users/annag/OneDrive/Dokumente/Special_Course/03_code/data/raw/\"\n",
    "# subjects = [\"nuria\"]\n",
    "# measurements = [\"nuri_06\"] \n",
    "\n",
    "# subjects = [\"dani\", \"pablo\", \"huiyu\", \"manu\", \"fabio\", \"ivo\", \"anna\", \"luisa\", \"sarah\", \"irene\"]\n",
    "# measurements = [\"2023-03-07_18-29-54\", \"2023-03-07_18-48-22\", \"2023-03-07_19-00-01_move\",\n",
    "#                 \"2023-03-10_15-30-01_move\", \"2023-03-10_15-40-28\", \"2023-03-10_15-50-40\",\n",
    "#                 \"2023-03-09_15-45-59_move\", \"2023-03-09_15-57-32\", \"2023-03-09_16-09-04\",\n",
    "#                 \"2023-03-20_16-27-55_move\", \"2023-03-20_16-37-23\", \"2023-03-20_16-51-03\",\n",
    "#                 \"2023-03-21_16-15-57_move\", \"2023-03-21_16-26-21\", \"2023-03-21_16-36-55\",\n",
    "#                 \"2023-03-09_16-37-21_move\", \"2023-03-09_16-50-05\", \"2023-03-09_17-03-08\",\n",
    "#                 \"2023-03-10_18-04-54_move\", \"2023-03-10_18-14-09\", \"2023-03-10_18-22-48\",\n",
    "#                 \"2023-03-10_17-26-16_move\", \"2023-03-10_17-35-13\", \"2023-03-10_17-44-40\",\n",
    "#                 \"2023-03-10_16-35-20_move\", \"2023-03-10_16-44-51\", \"2023-03-10_16-58-25\",\n",
    "#                 \"2023-03-21_15-27-37_move\", \"2023-03-21_15-37-54\", \"2023-03-21_15-49-00\"]\n",
    "\n",
    "subjects = [\"dani\", \"ivo\", \"pablo\", \"huiyu\", \"manu\", \"fabio\", \"anna\", \"luisa\", \"sarah\", \"irene\", \"jan\"]\n",
    "# subjects = [\"dani\", \"pablo\", \"huiyu\", \"manu\", \"fabio\", \"anna\", \"luisa\", \"sarah\", \"irene\"]\n",
    "measurements = []\n",
    "\n",
    "# measurements = [\"2023-03-07_18-29-54\", \"2023-03-07_18-48-22\", \"2023-03-07_19-00-01_move\",\n",
    "#                 \"2023-03-10_15-30-01_move\", \"2023-03-10_15-40-28\", \"2023-03-10_15-50-40\",\n",
    "#                 \"2023-03-09_15-45-59_move\", \"2023-03-09_15-57-32\", \"2023-03-09_16-09-04\",\n",
    "#                 \"2023-03-20_16-27-55_move\", \"2023-03-20_16-37-23\", \"2023-03-20_16-51-03\",\n",
    "#                 \"2023-03-21_16-15-57_move\", \"2023-03-21_16-26-21\", \"2023-03-21_16-36-55\",\n",
    "#                 \"2023-03-10_18-04-54_move\", \"2023-03-10_18-14-09\", \"2023-03-10_18-22-48\",\n",
    "#                 \"2023-03-10_17-26-16_move\", \"2023-03-10_17-35-13\", \"2023-03-10_17-44-40\",\n",
    "#                 \"2023-03-10_16-35-20_move\", \"2023-03-10_16-44-51\", \"2023-03-10_16-58-25\",\n",
    "#                 \"2023-03-21_15-27-37_move\", \"2023-03-21_15-37-54\", \"2023-03-21_15-49-00\"]"
   ]
  },
  {
   "cell_type": "markdown",
   "id": "b628192c",
   "metadata": {},
   "source": [
    "# Evaluation with Cross Validation (Stratified KFold)"
   ]
  },
  {
   "cell_type": "code",
   "execution_count": 16,
   "id": "d6912d12",
   "metadata": {},
   "outputs": [
    {
     "name": "stdout",
     "output_type": "stream",
     "text": [
      "Subjects: ['dani', 'ivo', 'pablo', 'huiyu', 'manu', 'fabio', 'anna', 'luisa', 'sarah', 'irene', 'jan']\n",
      "Total invalid samples: 53\n",
      "Fold 0\n",
      "Train percentage: 0.8995983935742972\n",
      "Shape data_array: (1245, 375, 16)\n",
      "Selected CSP components: [15, 0]\n",
      "Shape CSP data: (1245, 375, 2)\n",
      "Shape features: (1245, 2)\n",
      "35/35 [==============================] - 0s 2ms/step\n",
      "2/2 [==============================] - 0s 3ms/step\n",
      "Shape data_array: (1245, 375, 16)\n",
      "Selected CSP components: [15, 0, 14, 1]\n",
      "Shape CSP data: (1245, 375, 4)\n",
      "Shape features: (1245, 4)\n",
      "35/35 [==============================] - 0s 1ms/step\n",
      "2/2 [==============================] - 0s 4ms/step\n",
      "Shape data_array: (1245, 375, 16)\n",
      "Selected CSP components: [0, 1, 2, 3, 4, 5, 6, 7, 8, 9, 10, 11, 12, 13, 14, 15]\n",
      "Shape CSP data: (1245, 375, 16)\n",
      "Shape features: (1245, 16)\n",
      "35/35 [==============================] - 0s 1ms/step\n",
      "2/2 [==============================] - 0s 4ms/step\n",
      "Fold 1\n",
      "Train percentage: 0.8995983935742972\n",
      "Shape data_array: (1245, 375, 16)\n",
      "Selected CSP components: [15, 0]\n",
      "Shape CSP data: (1245, 375, 2)\n",
      "Shape features: (1245, 2)\n",
      "35/35 [==============================] - 0s 2ms/step\n",
      "2/2 [==============================] - 0s 6ms/step\n",
      "Shape data_array: (1245, 375, 16)\n",
      "Selected CSP components: [15, 0, 14, 1]\n",
      "Shape CSP data: (1245, 375, 4)\n",
      "Shape features: (1245, 4)\n",
      "35/35 [==============================] - 0s 2ms/step\n",
      "2/2 [==============================] - 0s 5ms/step\n",
      "Shape data_array: (1245, 375, 16)\n",
      "Selected CSP components: [0, 1, 2, 3, 4, 5, 6, 7, 8, 9, 10, 11, 12, 13, 14, 15]\n",
      "Shape CSP data: (1245, 375, 16)\n",
      "Shape features: (1245, 16)\n",
      "35/35 [==============================] - 0s 2ms/step\n",
      "2/2 [==============================] - 0s 4ms/step\n",
      "Fold 2\n",
      "Train percentage: 0.8995983935742972\n",
      "Shape data_array: (1245, 375, 16)\n",
      "Selected CSP components: [15, 0]\n",
      "Shape CSP data: (1245, 375, 2)\n",
      "Shape features: (1245, 2)\n",
      "35/35 [==============================] - 0s 3ms/step\n",
      "2/2 [==============================] - 0s 7ms/step\n",
      "Shape data_array: (1245, 375, 16)\n",
      "Selected CSP components: [15, 0, 14, 1]\n",
      "Shape CSP data: (1245, 375, 4)\n",
      "Shape features: (1245, 4)\n",
      "35/35 [==============================] - 0s 2ms/step\n",
      "2/2 [==============================] - 0s 4ms/step\n",
      "Shape data_array: (1245, 375, 16)\n",
      "Selected CSP components: [0, 1, 2, 3, 4, 5, 6, 7, 8, 9, 10, 11, 12, 13, 14, 15]\n",
      "Shape CSP data: (1245, 375, 16)\n",
      "Shape features: (1245, 16)\n",
      "35/35 [==============================] - 0s 2ms/step\n",
      "2/2 [==============================] - 0s 3ms/step\n",
      "Fold 3\n",
      "Train percentage: 0.8995983935742972\n",
      "Shape data_array: (1245, 375, 16)\n",
      "Selected CSP components: [15, 0]\n",
      "Shape CSP data: (1245, 375, 2)\n",
      "Shape features: (1245, 2)\n",
      "35/35 [==============================] - 0s 2ms/step\n",
      "2/2 [==============================] - 0s 4ms/step\n",
      "Shape data_array: (1245, 375, 16)\n",
      "Selected CSP components: [15, 0, 14, 1]\n",
      "Shape CSP data: (1245, 375, 4)\n",
      "Shape features: (1245, 4)\n",
      "35/35 [==============================] - 0s 1ms/step\n",
      "2/2 [==============================] - 0s 3ms/step\n",
      "Shape data_array: (1245, 375, 16)\n",
      "Selected CSP components: [0, 1, 2, 3, 4, 5, 6, 7, 8, 9, 10, 11, 12, 13, 14, 15]\n",
      "Shape CSP data: (1245, 375, 16)\n",
      "Shape features: (1245, 16)\n",
      "35/35 [==============================] - 0s 2ms/step\n",
      "2/2 [==============================] - 0s 5ms/step\n",
      "Fold 4\n",
      "Train percentage: 0.8995983935742972\n",
      "Shape data_array: (1245, 375, 16)\n",
      "Selected CSP components: [15, 0]\n",
      "Shape CSP data: (1245, 375, 2)\n",
      "Shape features: (1245, 2)\n",
      "35/35 [==============================] - 0s 2ms/step\n",
      "2/2 [==============================] - 0s 3ms/step\n",
      "Shape data_array: (1245, 375, 16)\n",
      "Selected CSP components: [15, 0, 14, 1]\n",
      "Shape CSP data: (1245, 375, 4)\n",
      "Shape features: (1245, 4)\n",
      "35/35 [==============================] - 0s 2ms/step\n",
      "2/2 [==============================] - 0s 4ms/step\n",
      "Shape data_array: (1245, 375, 16)\n",
      "Selected CSP components: [0, 1, 2, 3, 4, 5, 6, 7, 8, 9, 10, 11, 12, 13, 14, 15]\n",
      "Shape CSP data: (1245, 375, 16)\n",
      "Shape features: (1245, 16)\n",
      "35/35 [==============================] - 0s 2ms/step\n",
      "2/2 [==============================] - 0s 3ms/step\n",
      "Fold 5\n",
      "Train percentage: 0.9004016064257028\n",
      "Shape data_array: (1245, 375, 16)\n",
      "Selected CSP components: [15, 0]\n",
      "Shape CSP data: (1245, 375, 2)\n",
      "Shape features: (1245, 2)\n",
      "36/36 [==============================] - 0s 2ms/step\n",
      "2/2 [==============================] - 0s 5ms/step\n",
      "Shape data_array: (1245, 375, 16)\n",
      "Selected CSP components: [15, 0, 14, 2]\n",
      "Shape CSP data: (1245, 375, 4)\n",
      "Shape features: (1245, 4)\n",
      "36/36 [==============================] - 0s 2ms/step\n",
      "2/2 [==============================] - 0s 5ms/step\n",
      "Shape data_array: (1245, 375, 16)\n",
      "Selected CSP components: [0, 1, 2, 3, 4, 5, 6, 7, 8, 9, 10, 11, 12, 13, 14, 15]\n",
      "Shape CSP data: (1245, 375, 16)\n",
      "Shape features: (1245, 16)\n",
      "36/36 [==============================] - 0s 1ms/step\n",
      "2/2 [==============================] - 0s 3ms/step\n",
      "Fold 6\n",
      "Train percentage: 0.9004016064257028\n",
      "Shape data_array: (1245, 375, 16)\n",
      "Selected CSP components: [15, 0]\n",
      "Shape CSP data: (1245, 375, 2)\n",
      "Shape features: (1245, 2)\n",
      "36/36 [==============================] - 0s 2ms/step\n",
      "2/2 [==============================] - 0s 3ms/step\n",
      "Shape data_array: (1245, 375, 16)\n",
      "Selected CSP components: [15, 0, 14, 1]\n",
      "Shape CSP data: (1245, 375, 4)\n",
      "Shape features: (1245, 4)\n",
      "36/36 [==============================] - 0s 2ms/step\n",
      "2/2 [==============================] - 0s 5ms/step\n",
      "Shape data_array: (1245, 375, 16)\n",
      "Selected CSP components: [0, 1, 2, 3, 4, 5, 6, 7, 8, 9, 10, 11, 12, 13, 14, 15]\n",
      "Shape CSP data: (1245, 375, 16)\n",
      "Shape features: (1245, 16)\n",
      "36/36 [==============================] - 0s 2ms/step\n",
      "2/2 [==============================] - 0s 4ms/step\n",
      "Fold 7\n",
      "Train percentage: 0.9004016064257028\n",
      "Shape data_array: (1245, 375, 16)\n",
      "Selected CSP components: [15, 0]\n",
      "Shape CSP data: (1245, 375, 2)\n",
      "Shape features: (1245, 2)\n",
      "36/36 [==============================] - 0s 1ms/step\n",
      "2/2 [==============================] - 0s 4ms/step\n",
      "Shape data_array: (1245, 375, 16)\n",
      "Selected CSP components: [15, 0, 14, 1]\n",
      "Shape CSP data: (1245, 375, 4)\n",
      "Shape features: (1245, 4)\n",
      "36/36 [==============================] - 0s 1ms/step\n",
      "2/2 [==============================] - 0s 3ms/step\n",
      "Shape data_array: (1245, 375, 16)\n",
      "Selected CSP components: [0, 1, 2, 3, 4, 5, 6, 7, 8, 9, 10, 11, 12, 13, 14, 15]\n",
      "Shape CSP data: (1245, 375, 16)\n",
      "Shape features: (1245, 16)\n",
      "36/36 [==============================] - 0s 1ms/step\n",
      "2/2 [==============================] - 0s 5ms/step\n",
      "Fold 8\n",
      "Train percentage: 0.9004016064257028\n",
      "Shape data_array: (1245, 375, 16)\n",
      "Selected CSP components: [15, 0]\n",
      "Shape CSP data: (1245, 375, 2)\n",
      "Shape features: (1245, 2)\n",
      "36/36 [==============================] - 0s 2ms/step\n",
      "2/2 [==============================] - 0s 4ms/step\n",
      "Shape data_array: (1245, 375, 16)\n",
      "Selected CSP components: [15, 0, 14, 2]\n",
      "Shape CSP data: (1245, 375, 4)\n",
      "Shape features: (1245, 4)\n",
      "36/36 [==============================] - 0s 2ms/step\n",
      "2/2 [==============================] - 0s 4ms/step\n",
      "Shape data_array: (1245, 375, 16)\n",
      "Selected CSP components: [0, 1, 2, 3, 4, 5, 6, 7, 8, 9, 10, 11, 12, 13, 14, 15]\n",
      "Shape CSP data: (1245, 375, 16)\n",
      "Shape features: (1245, 16)\n",
      "36/36 [==============================] - 0s 1ms/step\n",
      "2/2 [==============================] - 0s 4ms/step\n",
      "Fold 9\n",
      "Train percentage: 0.9004016064257028\n",
      "Shape data_array: (1245, 375, 16)\n",
      "Selected CSP components: [15, 0]\n",
      "Shape CSP data: (1245, 375, 2)\n",
      "Shape features: (1245, 2)\n",
      "36/36 [==============================] - 0s 2ms/step\n",
      "2/2 [==============================] - 0s 4ms/step\n",
      "Shape data_array: (1245, 375, 16)\n",
      "Selected CSP components: [15, 0, 14, 1]\n",
      "Shape CSP data: (1245, 375, 4)\n",
      "Shape features: (1245, 4)\n",
      "36/36 [==============================] - 0s 2ms/step\n",
      "2/2 [==============================] - 0s 6ms/step\n",
      "Shape data_array: (1245, 375, 16)\n",
      "Selected CSP components: [0, 1, 2, 3, 4, 5, 6, 7, 8, 9, 10, 11, 12, 13, 14, 15]\n",
      "Shape CSP data: (1245, 375, 16)\n",
      "Shape features: (1245, 16)\n",
      "36/36 [==============================] - 0s 2ms/step\n",
      "2/2 [==============================] - 0s 4ms/step\n"
     ]
    }
   ],
   "source": [
    "accuracies = validate_models_CV(data_root, subjects, measurements, num_folds = 10, num_components=[2,4,None])\n",
    "#accuracies = validate_models_CV(data_root, subjects, measurements, num_folds = 10, num_components=[None])"
   ]
  },
  {
   "cell_type": "markdown",
   "id": "61cf6ea7",
   "metadata": {},
   "source": [
    "### 2 components"
   ]
  },
  {
   "cell_type": "code",
   "execution_count": 17,
   "id": "a9f5407e",
   "metadata": {},
   "outputs": [
    {
     "name": "stdout",
     "output_type": "stream",
     "text": [
      "LDA: train=0.6274864597935517; test=0.590374193548387\n",
      "QDA: train=0.6157061615904167; test=0.5936322580645162\n",
      "XGB: train=0.9305690072639224; test=0.5983741935483871\n",
      "SVM: train=0.6763924111125271; test=0.6410129032258065\n",
      "NN: train=0.66131148846693; test=0.6657706093189965\n"
     ]
    }
   ],
   "source": [
    "print(f\"LDA: train={np.mean(accuracies['2_components']['LDA']['train'])}; test={np.mean(accuracies['2_components']['LDA']['test'])}\")\n",
    "print(f\"QDA: train={np.mean(accuracies['2_components']['QDA']['train'])}; test={np.mean(accuracies['2_components']['QDA']['test'])}\")\n",
    "print(f\"XGB: train={np.mean(accuracies['2_components']['XGB']['train'])}; test={np.mean(accuracies['2_components']['XGB']['test'])}\")\n",
    "print(f\"SVM: train={np.mean(accuracies['2_components']['SVM']['train'])}; test={np.mean(accuracies['2_components']['SVM']['test'])}\")\n",
    "print(f\"NN: train={np.mean(accuracies['2_components']['NN']['train'])}; test={np.mean(accuracies['2_components']['NN']['test'])}\")"
   ]
  },
  {
   "cell_type": "markdown",
   "id": "bfed515e",
   "metadata": {},
   "source": [
    "### 4 components"
   ]
  },
  {
   "cell_type": "code",
   "execution_count": 18,
   "id": "c56ea877",
   "metadata": {},
   "outputs": [
    {
     "name": "stdout",
     "output_type": "stream",
     "text": [
      "LDA: train=0.624004715177775; test=0.6168774193548388\n",
      "QDA: train=0.626683525551166; test=0.6128193548387098\n",
      "XGB: train=0.9877730342806169; test=0.6032451612903226\n",
      "SVM: train=0.696920558812285; test=0.6546387096774193\n",
      "NN: train=0.6663981457881993; test=0.6192780337941628\n"
     ]
    }
   ],
   "source": [
    "print(f\"LDA: train={np.mean(accuracies['4_components']['LDA']['train'])}; test={np.mean(accuracies['4_components']['LDA']['test'])}\")\n",
    "print(f\"QDA: train={np.mean(accuracies['4_components']['QDA']['train'])}; test={np.mean(accuracies['4_components']['QDA']['test'])}\")\n",
    "print(f\"XGB: train={np.mean(accuracies['4_components']['XGB']['train'])}; test={np.mean(accuracies['4_components']['XGB']['test'])}\")\n",
    "print(f\"SVM: train={np.mean(accuracies['4_components']['SVM']['train'])}; test={np.mean(accuracies['4_components']['SVM']['test'])}\")\n",
    "print(f\"NN: train={np.mean(accuracies['4_components']['NN']['train'])}; test={np.mean(accuracies['4_components']['NN']['test'])}\")"
   ]
  },
  {
   "cell_type": "markdown",
   "id": "e8ed0de8",
   "metadata": {},
   "source": [
    "### All components"
   ]
  },
  {
   "cell_type": "code",
   "execution_count": 19,
   "id": "aadad96b",
   "metadata": {},
   "outputs": [
    {
     "name": "stdout",
     "output_type": "stream",
     "text": [
      "LDA: train=0.6376606505670956; test=0.589541935483871\n",
      "QDA: train=0.6701492608640244; test=0.5855096774193549\n",
      "XGB: train=1.0; test=0.6555354838709677\n",
      "SVM: train=0.735386134828597; test=0.6683290322580645\n",
      "NN: train=0.6747005224926724; test=0.6321044546850998\n"
     ]
    }
   ],
   "source": [
    "print(f\"LDA: train={np.mean(accuracies['None_components']['LDA']['train'])}; test={np.mean(accuracies['None_components']['LDA']['test'])}\")\n",
    "print(f\"QDA: train={np.mean(accuracies['None_components']['QDA']['train'])}; test={np.mean(accuracies['None_components']['QDA']['test'])}\")\n",
    "print(f\"XGB: train={np.mean(accuracies['None_components']['XGB']['train'])}; test={np.mean(accuracies['None_components']['XGB']['test'])}\")\n",
    "print(f\"SVM: train={np.mean(accuracies['None_components']['SVM']['train'])}; test={np.mean(accuracies['None_components']['SVM']['test'])}\")\n",
    "print(f\"NN: train={np.mean(accuracies['None_components']['NN']['train'])}; test={np.mean(accuracies['None_components']['NN']['test'])}\")"
   ]
  },
  {
   "cell_type": "markdown",
   "id": "677fd347",
   "metadata": {},
   "source": [
    "# Evaluation with CV \"Leave-One-Subject-Out\""
   ]
  },
  {
   "cell_type": "code",
   "execution_count": 20,
   "id": "0e2dafc0",
   "metadata": {},
   "outputs": [
    {
     "name": "stdout",
     "output_type": "stream",
     "text": [
      "Subjects: ['dani', 'ivo', 'pablo', 'huiyu', 'manu', 'fabio', 'anna', 'luisa', 'sarah', 'irene', 'jan']\n",
      "Total invalid samples: 53\n",
      "Subjects: ['dani', 'ivo', 'pablo', 'huiyu', 'manu', 'fabio', 'anna', 'luisa', 'sarah', 'irene', 'jan']\n",
      "Testing on subject dani.\n",
      "Shape data_array: (1245, 375, 16)\n",
      "Selected CSP components: [15, 0, 14, 1]\n",
      "Shape CSP data: (1245, 375, 4)\n",
      "Shape features: (1245, 4)\n",
      "36/36 [==============================] - 0s 2ms/step\n",
      "2/2 [==============================] - 0s 4ms/step\n",
      "Testing on subject ivo.\n",
      "Shape data_array: (1245, 375, 16)\n",
      "Selected CSP components: [15, 0, 14, 1]\n",
      "Shape CSP data: (1245, 375, 4)\n",
      "Shape features: (1245, 4)\n",
      "36/36 [==============================] - 0s 2ms/step\n",
      "2/2 [==============================] - 0s 4ms/step\n",
      "Testing on subject pablo.\n",
      "Shape data_array: (1245, 375, 16)\n",
      "Selected CSP components: [15, 0, 14, 1]\n",
      "Shape CSP data: (1245, 375, 4)\n",
      "Shape features: (1245, 4)\n",
      "36/36 [==============================] - 0s 2ms/step\n",
      "2/2 [==============================] - 0s 5ms/step\n",
      "Testing on subject huiyu.\n",
      "Shape data_array: (1245, 375, 16)\n",
      "Selected CSP components: [15, 0, 14, 2]\n",
      "Shape CSP data: (1245, 375, 4)\n",
      "Shape features: (1245, 4)\n",
      "36/36 [==============================] - 0s 2ms/step\n",
      "2/2 [==============================] - 0s 4ms/step\n",
      "Testing on subject manu.\n",
      "Shape data_array: (1245, 375, 16)\n",
      "Selected CSP components: [15, 0, 13, 1]\n",
      "Shape CSP data: (1245, 375, 4)\n",
      "Shape features: (1245, 4)\n",
      "36/36 [==============================] - 0s 2ms/step\n",
      "2/2 [==============================] - 0s 5ms/step\n",
      "Testing on subject fabio.\n",
      "Shape data_array: (1245, 375, 16)\n",
      "Selected CSP components: [15, 0, 14, 1]\n",
      "Shape CSP data: (1245, 375, 4)\n",
      "Shape features: (1245, 4)\n",
      "36/36 [==============================] - 0s 2ms/step\n",
      "2/2 [==============================] - 0s 4ms/step\n",
      "Testing on subject anna.\n",
      "Shape data_array: (1245, 375, 16)\n",
      "Selected CSP components: [15, 0, 14, 1]\n",
      "Shape CSP data: (1245, 375, 4)\n",
      "Shape features: (1245, 4)\n",
      "36/36 [==============================] - 0s 2ms/step\n",
      "2/2 [==============================] - 0s 4ms/step\n",
      "Testing on subject luisa.\n",
      "Shape data_array: (1245, 375, 16)\n",
      "Selected CSP components: [15, 0, 14, 1]\n",
      "Shape CSP data: (1245, 375, 4)\n",
      "Shape features: (1245, 4)\n",
      "36/36 [==============================] - 0s 2ms/step\n",
      "2/2 [==============================] - 0s 4ms/step\n",
      "Testing on subject sarah.\n",
      "Shape data_array: (1245, 375, 16)\n",
      "Selected CSP components: [15, 0, 14, 1]\n",
      "Shape CSP data: (1245, 375, 4)\n",
      "Shape features: (1245, 4)\n",
      "36/36 [==============================] - 0s 2ms/step\n",
      "2/2 [==============================] - 0s 5ms/step\n",
      "Testing on subject irene.\n",
      "Shape data_array: (1245, 375, 16)\n",
      "Selected CSP components: [15, 0, 14, 1]\n",
      "Shape CSP data: (1245, 375, 4)\n",
      "Shape features: (1245, 4)\n",
      "36/36 [==============================] - 0s 2ms/step\n",
      "2/2 [==============================] - 0s 3ms/step\n",
      "Testing on subject jan.\n",
      "Shape data_array: (1245, 375, 16)\n",
      "Selected CSP components: [15, 1, 14, 0]\n",
      "Shape CSP data: (1245, 375, 4)\n",
      "Shape features: (1245, 4)\n",
      "36/36 [==============================] - 0s 2ms/step\n",
      "2/2 [==============================] - 0s 4ms/step\n"
     ]
    }
   ],
   "source": [
    "accuracies_LOSO = validate_models_LOSO(data_root, subjects, measurements, num_components=[4])"
   ]
  },
  {
   "cell_type": "code",
   "execution_count": 23,
   "id": "449dcd56",
   "metadata": {
    "scrolled": false
   },
   "outputs": [
    {
     "name": "stdout",
     "output_type": "stream",
     "text": [
      "{'train': [0.6986666666666667, 0.696, 0.6950354609929078, 0.6901041666666666, 0.712914485165794, 0.7182222222222222, 0.6746666666666666, 0.7208888888888889, 0.7069271758436945, 0.7206654991243433, 0.6878868258178603], 'test': [0.5916666666666667, 0.7166666666666667, 0.6752136752136753, 0.4838709677419355, 0.6060606060606061, 0.5583333333333333, 0.8333333333333334, 0.4666666666666667, 0.6470588235294118, 0.49514563106796117, 0.4649122807017544]}\n",
      "Train Mean: 0.7019980052777919\n",
      "Test Mean: 0.5944480591801828\n"
     ]
    }
   ],
   "source": [
    "print(accuracies_LOSO['4_components']['SVM'])\n",
    "print(f\"Train Mean: {np.mean(accuracies_LOSO['4_components']['SVM']['train'])}\")\n",
    "print(f\"Test Mean: {np.mean(accuracies_LOSO['4_components']['SVM']['test'])}\")"
   ]
  },
  {
   "cell_type": "code",
   "execution_count": 24,
   "id": "058b368d",
   "metadata": {},
   "outputs": [
    {
     "name": "stdout",
     "output_type": "stream",
     "text": [
      "{'train': [0.6657777777777778, 0.6684444444444444, 0.650709219858156, 0.6649305555555556, 0.6919720767888308, 0.6551111111111111, 0.6524444444444445, 0.6853333333333333, 0.6749555950266429, 0.6900175131348512, 0.6595932802829354], 'test': [0.5333333333333333, 0.65, 0.6440677966101694, 0.5319148936170213, 0.6, 0.5666666666666667, 0.7833333333333333, 0.5, 0.5833333333333334, 0.5192307692307693, 0.45614035087719296]}\n",
      "Train Mean: 0.6690263047052802\n",
      "Test Mean: 0.5789109524547107\n"
     ]
    }
   ],
   "source": [
    "print(accuracies_LOSO['4_components']['NN'])\n",
    "print(f\"Train Mean: {np.mean(accuracies_LOSO['4_components']['NN']['train'])}\")\n",
    "print(f\"Test Mean: {np.mean(accuracies_LOSO['4_components']['NN']['test'])}\")"
   ]
  },
  {
   "cell_type": "code",
   "execution_count": null,
   "id": "3fa2b882",
   "metadata": {},
   "outputs": [],
   "source": []
  }
 ],
 "metadata": {
  "kernelspec": {
   "display_name": "Python 3 (ipykernel)",
   "language": "python",
   "name": "python3"
  },
  "language_info": {
   "codemirror_mode": {
    "name": "ipython",
    "version": 3
   },
   "file_extension": ".py",
   "mimetype": "text/x-python",
   "name": "python",
   "nbconvert_exporter": "python",
   "pygments_lexer": "ipython3",
   "version": "3.10.9"
  }
 },
 "nbformat": 4,
 "nbformat_minor": 5
}
